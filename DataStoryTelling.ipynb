{
  "nbformat": 4,
  "nbformat_minor": 0,
  "metadata": {
    "colab": {
      "name": "DataStoryTelling.ipynb",
      "provenance": [],
      "toc_visible": true,
      "authorship_tag": "ABX9TyO6HgmxtbnZityFfZHMMDIq",
      "include_colab_link": true
    },
    "kernelspec": {
      "name": "python3",
      "display_name": "Python 3"
    },
    "language_info": {
      "name": "python"
    }
  },
  "cells": [
    {
      "cell_type": "markdown",
      "metadata": {
        "id": "view-in-github",
        "colab_type": "text"
      },
      "source": [
        "<a href=\"https://colab.research.google.com/github/gvc2000/datastory-colab/blob/main/DataStoryTelling.ipynb\" target=\"_parent\"><img src=\"https://colab.research.google.com/assets/colab-badge.svg\" alt=\"Open In Colab\"/></a>"
      ]
    },
    {
      "cell_type": "code",
      "metadata": {
        "id": "ShJ7V-qzYcXM"
      },
      "source": [
        ""
      ],
      "execution_count": null,
      "outputs": []
    },
    {
      "cell_type": "markdown",
      "metadata": {
        "id": "jzm6N483lcx-"
      },
      "source": [
        "# Storytelling\n"
      ]
    },
    {
      "cell_type": "markdown",
      "metadata": {
        "id": "DNKe39Eil9N1"
      },
      "source": [
        "## Ingest\n"
      ]
    },
    {
      "cell_type": "markdown",
      "metadata": {
        "id": "ncSbo5cynw6M"
      },
      "source": [
        "![teste](https://user-images.githubusercontent.com/22031976/132511956-6e501992-af6e-4ac3-ba34-2bac2c0eb262.png)"
      ]
    },
    {
      "cell_type": "code",
      "metadata": {
        "id": "rW6uyUJQmBm1"
      },
      "source": [
        "## EDA"
      ],
      "execution_count": null,
      "outputs": []
    },
    {
      "cell_type": "markdown",
      "metadata": {
        "id": "L_TxV1fTmNFt"
      },
      "source": [
        "## Modeling\n",
        "\n",
        "\n",
        "    "
      ]
    },
    {
      "cell_type": "code",
      "metadata": {
        "id": "21Izi-yGmSdf"
      },
      "source": [
        ""
      ],
      "execution_count": null,
      "outputs": []
    },
    {
      "cell_type": "markdown",
      "metadata": {
        "id": "tgelwhU6mVq1"
      },
      "source": [
        "## Conclusion"
      ]
    },
    {
      "cell_type": "markdown",
      "metadata": {
        "id": "ay3o4kD6mYWV"
      },
      "source": [
        ""
      ]
    }
  ]
}